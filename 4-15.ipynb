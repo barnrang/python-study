{
 "cells": [
  {
   "cell_type": "markdown",
   "metadata": {},
   "source": [
    "# Avoid using else after for/while (hard to understand)"
   ]
  },
  {
   "cell_type": "code",
   "execution_count": 3,
   "metadata": {
    "scrolled": true
   },
   "outputs": [
    {
     "name": "stdout",
     "output_type": "stream",
     "text": [
      "0\n",
      "1\n",
      "2\n",
      "loop finish\n",
      "start new loop\n",
      "0\n",
      "1\n",
      "2\n"
     ]
    }
   ],
   "source": [
    "for i in range(3):\n",
    "    print(i)\n",
    "else:\n",
    "    print('loop finish')\n",
    "    \n",
    "# Unfinished loop\n",
    "\n",
    "print('start new loop')\n",
    "for i in range(4):\n",
    "    print(i)\n",
    "    if i == 2:\n",
    "        break\n",
    "else:\n",
    "    print('loop finish')"
   ]
  },
  {
   "cell_type": "code",
   "execution_count": 7,
   "metadata": {},
   "outputs": [
    {
     "data": {
      "text/plain": [
       "(False, True)"
      ]
     },
     "execution_count": 7,
     "metadata": {},
     "output_type": "execute_result"
    }
   ],
   "source": [
    "# Easier to understand\n",
    "\n",
    "def prime(a):\n",
    "    is_prime = True\n",
    "    for i in range(2, a):\n",
    "        if a % i == 0:\n",
    "            is_prime = False\n",
    "            break\n",
    "    return is_prime\n",
    "\n",
    "prime(4), prime(5)"
   ]
  },
  {
   "cell_type": "markdown",
   "metadata": {},
   "source": [
    "# Try/Except/Else/Finally"
   ]
  },
  {
   "cell_type": "code",
   "execution_count": 8,
   "metadata": {},
   "outputs": [
    {
     "name": "stdout",
     "output_type": "stream",
     "text": [
      "[1, 2, 3, 4]\n",
      "Finish work\n",
      "6\n",
      "5\n",
      "Finish work\n"
     ]
    }
   ],
   "source": [
    "arr = [1,2,3,4]\n",
    "try:\n",
    "    print(arr[5])\n",
    "except:\n",
    "    print(arr)\n",
    "else:\n",
    "    # if no error in try\n",
    "    print(arr[4])\n",
    "finally:\n",
    "    print('Finish work')\n",
    "    \n",
    "arr = [1,2,3,4,5,6]\n",
    "try:\n",
    "    print(arr[5])\n",
    "except:\n",
    "    print(arr)\n",
    "else:\n",
    "    print(arr[4])\n",
    "finally:\n",
    "    print('Finish work')"
   ]
  },
  {
   "cell_type": "markdown",
   "metadata": {},
   "source": [
    "# Return error from function"
   ]
  },
  {
   "cell_type": "code",
   "execution_count": 14,
   "metadata": {},
   "outputs": [
    {
     "name": "stdout",
     "output_type": "stream",
     "text": [
      "invalid input 0\n",
      "invalid input 1\n"
     ]
    }
   ],
   "source": [
    "# Not a good example\n",
    "def devide(a,b):\n",
    "    try:\n",
    "        return a/b\n",
    "    except ZeroDivisionError:\n",
    "        return None\n",
    "    \n",
    "x, y = 4, 0\n",
    "result = devide(x,y)\n",
    "if not result:\n",
    "    print('invalid input 0')\n",
    "    \n",
    "x, y = 0, 4\n",
    "result = devide(x,y)\n",
    "if not result:\n",
    "    print('invalid input 1')\n",
    "# This is still fine\n",
    "if result is None:\n",
    "    print('invalid input 2')"
   ]
  },
  {
   "cell_type": "code",
   "execution_count": 16,
   "metadata": {},
   "outputs": [
    {
     "name": "stdout",
     "output_type": "stream",
     "text": [
      "invalid input 0\n"
     ]
    }
   ],
   "source": [
    "# First Solution\n",
    "def devide(a,b):\n",
    "    try:\n",
    "        return True, a/b\n",
    "    except ZeroDivisionError:\n",
    "        return False, None\n",
    "    \n",
    "x, y = 4, 0\n",
    "success, result = devide(x,y)\n",
    "if not success:\n",
    "    print('invalid input 0')\n",
    "    \n",
    "x, y = 0, 4\n",
    "success, result = devide(x,y)\n",
    "if not success:\n",
    "    print('invalid input 1')"
   ]
  },
  {
   "cell_type": "code",
   "execution_count": 17,
   "metadata": {},
   "outputs": [
    {
     "name": "stdout",
     "output_type": "stream",
     "text": [
      "invalid input 0\n"
     ]
    }
   ],
   "source": [
    "# Second Solution\n",
    "def devide(a,b):\n",
    "    try:\n",
    "        return a/b\n",
    "    except ZeroDivisionError as e:\n",
    "        raise ValueError('Invalid inputs') from e\n",
    "    \n",
    "x, y = 4, 0\n",
    "try:\n",
    "    result = devide(x,y)\n",
    "except ValueError:\n",
    "    print('invalid input 0')\n",
    "    \n",
    "x, y = 0, 4\n",
    "try:\n",
    "    result = devide(x,y)\n",
    "except ValueError:\n",
    "    print('invalid input 1')"
   ]
  },
  {
   "cell_type": "markdown",
   "metadata": {},
   "source": [
    "# Variable Scope in Function"
   ]
  },
  {
   "cell_type": "code",
   "execution_count": 20,
   "metadata": {},
   "outputs": [
    {
     "name": "stdout",
     "output_type": "stream",
     "text": [
      "[2, 5, 1, 4, 6] False\n"
     ]
    }
   ],
   "source": [
    "# Wrong Variable scope\n",
    "# found should be true\n",
    "def sort_prio(arr, group):\n",
    "    found = False\n",
    "    def helper(x):\n",
    "        if x in group:\n",
    "            found = True\n",
    "            return (0,x)\n",
    "        return (1,x)\n",
    "    arr.sort(key=helper)\n",
    "    return found\n",
    "\n",
    "numbers = [1,4,2,6,5]\n",
    "group = {2,5}\n",
    "found = sort_prio(numbers, group)\n",
    "print(numbers, found)"
   ]
  },
  {
   "cell_type": "code",
   "execution_count": 21,
   "metadata": {},
   "outputs": [
    {
     "name": "stdout",
     "output_type": "stream",
     "text": [
      "[2, 5, 1, 4, 6] True\n"
     ]
    }
   ],
   "source": [
    "# Solution : declare scope\n",
    "def sort_prio(arr, group):\n",
    "    found = False\n",
    "    def helper(x):\n",
    "\n",
    "        # similar to global but for nested method\n",
    "        nonlocal found\n",
    "        \n",
    "        if x in group:\n",
    "            found = True\n",
    "            return (0,x)\n",
    "        return (1,x)\n",
    "    arr.sort(key=helper)\n",
    "    return found\n",
    "\n",
    "numbers = [1,4,2,6,5]\n",
    "group = {2,5}\n",
    "found = sort_prio(numbers, group)\n",
    "print(numbers, found)"
   ]
  },
  {
   "cell_type": "markdown",
   "metadata": {},
   "source": [
    "# List append vs Generator (16)"
   ]
  },
  {
   "cell_type": "code",
   "execution_count": 24,
   "metadata": {},
   "outputs": [
    {
     "name": "stdout",
     "output_type": "stream",
     "text": [
      "[2, 4, 6, 7, 8]\n"
     ]
    }
   ],
   "source": [
    "arr = [1,3,2,5,4,3,6,4,6,7]\n",
    "\n",
    "def even_nums(numbers):\n",
    "    result = []\n",
    "    for index, number in enumerate(numbers):\n",
    "        if number % 2 == 0:\n",
    "            result.append(index)\n",
    "    return result\n",
    "\n",
    "print(even_nums(arr))"
   ]
  },
  {
   "cell_type": "code",
   "execution_count": 25,
   "metadata": {},
   "outputs": [
    {
     "name": "stdout",
     "output_type": "stream",
     "text": [
      "[2, 4, 6, 7, 8]\n"
     ]
    }
   ],
   "source": [
    "# More effective way both lines and memory\n",
    "\n",
    "def even_nums(numbers):\n",
    "    for index, number in enumerate(numbers):\n",
    "        if number % 2 == 0:\n",
    "            yield index\n",
    "\n",
    "print(list(even_nums(arr)))"
   ]
  },
  {
   "cell_type": "markdown",
   "metadata": {},
   "source": [
    "# Iterator as Argument (17)"
   ]
  },
  {
   "cell_type": "code",
   "execution_count": 28,
   "metadata": {},
   "outputs": [
    {
     "data": {
      "text/plain": [
       "[11.538461538461538, 26.923076923076923, 61.53846153846154]"
      ]
     },
     "execution_count": 28,
     "metadata": {},
     "output_type": "execute_result"
    }
   ],
   "source": [
    "# No problem is using only array (not efficient for large data)\n",
    "def norm(numbers):\n",
    "    total = sum(numbers)\n",
    "    result = []\n",
    "    for value in numbers:\n",
    "        percent = 100 * value/total\n",
    "        result.append(percent)\n",
    "    return result\n",
    "\n",
    "data_path = 'data_17.txt'\n",
    "visits = []\n",
    "with open(data_path) as f:\n",
    "    for line in f:\n",
    "        visits.append(int(line))\n",
    "norm(visits)"
   ]
  },
  {
   "cell_type": "code",
   "execution_count": 30,
   "metadata": {},
   "outputs": [
    {
     "data": {
      "text/plain": [
       "[]"
      ]
     },
     "execution_count": 30,
     "metadata": {},
     "output_type": "execute_result"
    }
   ],
   "source": [
    "# In case of large data, iterator is needed\n",
    "# Error because iterator is used once\n",
    "\n",
    "data_path = 'data_17.txt'\n",
    "def read_visits(data_path):\n",
    "    with open(data_path) as f:\n",
    "        for line in f:\n",
    "            yield int(line)\n",
    "\n",
    "it = read_visits(data_path) # Iterator exhausted since sum(numbers)\n",
    "norm(it)"
   ]
  },
  {
   "cell_type": "code",
   "execution_count": 35,
   "metadata": {},
   "outputs": [
    {
     "data": {
      "text/plain": [
       "[11.538461538461538, 26.923076923076923, 61.53846153846154]"
      ]
     },
     "execution_count": 35,
     "metadata": {},
     "output_type": "execute_result"
    }
   ],
   "source": [
    "# Solution by using lambda\n",
    "\n",
    "def norm_func(get_iter):\n",
    "    total = sum(get_iter()) #Iterator Exhausted\n",
    "    result = []\n",
    "    for value in get_iter():\n",
    "        percent = 100 * value/total\n",
    "        result.append(percent)\n",
    "    return result\n",
    "\n",
    "norm_func(lambda: read_visits(data_path)) # Call function to create the generator"
   ]
  },
  {
   "cell_type": "code",
   "execution_count": 36,
   "metadata": {},
   "outputs": [
    {
     "data": {
      "text/plain": [
       "[11.538461538461538, 26.923076923076923, 61.53846153846154]"
      ]
     },
     "execution_count": 36,
     "metadata": {},
     "output_type": "execute_result"
    }
   ],
   "source": [
    "# Used iterator protocal\n",
    "\n",
    "class ReadVisits:\n",
    "    def __init__(self, data_path):\n",
    "        self.path = data_path\n",
    "        \n",
    "    def __iter__(self):\n",
    "        with open(data_path) as f:\n",
    "            for line in f:\n",
    "                yield int(line)\n",
    "\n",
    "visits = ReadVisits(data_path)\n",
    "norm(visits)"
   ]
  },
  {
   "cell_type": "markdown",
   "metadata": {},
   "source": [
    "# Dynamic Default by None (20)"
   ]
  },
  {
   "cell_type": "code",
   "execution_count": 41,
   "metadata": {},
   "outputs": [
    {
     "data": {
      "text/plain": [
       "([1, 2], [1, 2])"
      ]
     },
     "execution_count": 41,
     "metadata": {},
     "output_type": "execute_result"
    }
   ],
   "source": [
    "# default was shared! (It was called only once when module was loading)\n",
    "def add_to_arr(data, default=[]):\n",
    "    default.append(data)\n",
    "    return default\n",
    "\n",
    "foo = add_to_arr(1)\n",
    "bar = add_to_arr(2)\n",
    "\n",
    "foo, bar"
   ]
  },
  {
   "cell_type": "code",
   "execution_count": 43,
   "metadata": {},
   "outputs": [
    {
     "data": {
      "text/plain": [
       "([1], [2])"
      ]
     },
     "execution_count": 43,
     "metadata": {},
     "output_type": "execute_result"
    }
   ],
   "source": [
    "def add_to_arr(data, default=None):\n",
    "    if default is None:\n",
    "        default = []\n",
    "    default.append(data)\n",
    "    return default\n",
    "\n",
    "foo = add_to_arr(1)\n",
    "bar = add_to_arr(2)\n",
    "\n",
    "foo, bar"
   ]
  },
  {
   "cell_type": "markdown",
   "metadata": {},
   "source": [
    "# Keyword Only Argument (21)"
   ]
  },
  {
   "cell_type": "code",
   "execution_count": 44,
   "metadata": {},
   "outputs": [
    {
     "ename": "TypeError",
     "evalue": "hello() takes 2 positional arguments but 4 were given",
     "output_type": "error",
     "traceback": [
      "\u001b[0;31m---------------------------------------------------------------------------\u001b[0m",
      "\u001b[0;31mTypeError\u001b[0m                                 Traceback (most recent call last)",
      "\u001b[0;32m<ipython-input-44-5e79cb6ec6d4>\u001b[0m in \u001b[0;36m<module>\u001b[0;34m()\u001b[0m\n\u001b[1;32m      7\u001b[0m     \u001b[0mprint\u001b[0m\u001b[0;34m(\u001b[0m\u001b[0mst\u001b[0m\u001b[0;34m)\u001b[0m\u001b[0;34m\u001b[0m\u001b[0m\n\u001b[1;32m      8\u001b[0m \u001b[0;34m\u001b[0m\u001b[0m\n\u001b[0;32m----> 9\u001b[0;31m \u001b[0mhello\u001b[0m\u001b[0;34m(\u001b[0m\u001b[0;34m'me'\u001b[0m\u001b[0;34m,\u001b[0m \u001b[0;34m'30'\u001b[0m\u001b[0;34m,\u001b[0m \u001b[0;32mTrue\u001b[0m\u001b[0;34m,\u001b[0m \u001b[0;32mFalse\u001b[0m\u001b[0;34m)\u001b[0m\u001b[0;34m\u001b[0m\u001b[0m\n\u001b[0m",
      "\u001b[0;31mTypeError\u001b[0m: hello() takes 2 positional arguments but 4 were given"
     ]
    }
   ],
   "source": [
    "# keyword restriction by *\n",
    "def hello(name, age, *, ignore_name = False, ignore_age = False):\n",
    "    st = 'hello '\n",
    "    if not ignore_name:\n",
    "        st += name\n",
    "    if not ignore_age:\n",
    "        st += age\n",
    "    print(st)\n",
    "    \n",
    "hello('me', '30', True, False)"
   ]
  },
  {
   "cell_type": "code",
   "execution_count": 45,
   "metadata": {},
   "outputs": [
    {
     "name": "stdout",
     "output_type": "stream",
     "text": [
      "hello 30\n"
     ]
    }
   ],
   "source": [
    "# No error\n",
    "hello('me', '30', ignore_name=True, ignore_age=False)"
   ]
  }
 ],
 "metadata": {
  "kernelspec": {
   "display_name": "Python 3",
   "language": "python",
   "name": "python3"
  },
  "language_info": {
   "codemirror_mode": {
    "name": "ipython",
    "version": 3
   },
   "file_extension": ".py",
   "mimetype": "text/x-python",
   "name": "python",
   "nbconvert_exporter": "python",
   "pygments_lexer": "ipython3",
   "version": "3.6.4"
  }
 },
 "nbformat": 4,
 "nbformat_minor": 2
}
